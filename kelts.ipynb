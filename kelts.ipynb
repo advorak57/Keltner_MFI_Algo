{
 "cells": [
  {
   "cell_type": "code",
   "execution_count": 1,
   "id": "4978ab08-8665-4652-b6f1-a1cdaa628e3d",
   "metadata": {},
   "outputs": [],
   "source": [
    "import yfinance as yf\n",
    "import pandas as pd\n",
    "import numpy as np\n",
    "from talib import BBANDS, RSI, MA_Type, ATR, MFI\n",
    "import datetime as dt"
   ]
  },
  {
   "cell_type": "code",
   "execution_count": 2,
   "id": "5d215f9b-bd9f-4e84-851b-e7122129555c",
   "metadata": {},
   "outputs": [
    {
     "name": "stdin",
     "output_type": "stream",
     "text": [
      "What stock are we crushing today?:  NFLX\n"
     ]
    }
   ],
   "source": [
    "# Download historical data\n",
    "tickerSymbol = input(\"What stock are we crushing today?: \")\n",
    "# Get data on this ticker\n",
    "tickerData = yf.Ticker(tickerSymbol)\n",
    "# Get the historical prices for this ticker\n",
    "df = tickerData.history(period='60d', interval='5m')"
   ]
  },
  {
   "cell_type": "code",
   "execution_count": 3,
   "id": "45bb67da-7c95-4153-bd20-3e1acd9db2bc",
   "metadata": {},
   "outputs": [],
   "source": [
    "# Calculate Bollinger Bands\n",
    "df['upper_band'], df['middle_band'], df['lower_band'] = BBANDS(df['Close'], timeperiod=20)\n",
    "\n",
    "# Calculate RSI\n",
    "df['rsi'] = RSI(df['Close'], timeperiod=14)\n",
    "\n",
    "# Calculate Keltner Channels\n",
    "df['keltner_middle'] = df['Close'].rolling(window=20).mean()\n",
    "df['atr'] = ATR(df['High'], df['Low'], df['Close'], timeperiod=20)\n",
    "df['keltner_upper'] = df['keltner_middle'] + (df['atr'] * 1.5)\n",
    "df['keltner_lower'] = df['keltner_middle'] - (df['atr'] * 1.5)\n",
    "\n",
    "# Calculate Money Flow Index\n",
    "df['mfi'] = MFI(df['High'], df['Low'], df['Close'], df['Volume'], timeperiod=14)"
   ]
  },
  {
   "cell_type": "code",
   "execution_count": 4,
   "id": "baaf146e-ec7a-417e-9317-470c603a3a25",
   "metadata": {},
   "outputs": [],
   "source": [
    "starting_balance = 50000\n",
    "risk_amount = (.40 * starting_balance) # 40% of starting balance\n",
    "stop_loss_pct = 0.15 # 15%\n",
    "balance = starting_balance\n",
    "position = 0\n",
    "entry_price = 0\n",
    "num_shares = 0"
   ]
  },
  {
   "cell_type": "code",
   "execution_count": 5,
   "id": "4412de71-87b8-44b5-87d0-d2159da05efc",
   "metadata": {},
   "outputs": [],
   "source": [
    "# Initialize trade journal\n",
    "trade_journal = pd.DataFrame(columns=[\"Date\", \"Action\", \"Price\", \"Shares\", \"Balance\"])"
   ]
  },
  {
   "cell_type": "code",
   "execution_count": 6,
   "id": "89365d45-585c-45fa-8916-adda979cc47b",
   "metadata": {},
   "outputs": [],
   "source": [
    "# Iterate over the data\n",
    "for i, row in df.iterrows():\n",
    "    # Check if RSI is below 20 and close price is below the lower Keltner Channel or lower Bollinger Band\n",
    "    if row['rsi'] < 30 and (row['Close'] <  row['keltner_lower'] or row['Close'] < row['lower_band']):\n",
    "        if position == 0:\n",
    "            num_shares = int(risk_amount / row['Close'])\n",
    "            balance -= num_shares * row['Close']\n",
    "            position += num_shares\n",
    "            entry_price = row['Close']\n",
    "            trade_journal = trade_journal.append({\"Date\": row.name, \"Action\": \"Buy\", \"Price\": row[\"Close\"], \"Shares\": num_shares, \"Balance\": balance}, ignore_index=True)\n",
    "    elif ((row['rsi'] > 80 and (row['Close'] > row['keltner_upper'] or row['Close'] > row['upper_band'])) or \n",
    "          (entry_price > 0 and row['Close'] < entry_price * (1 - stop_loss_pct)) or \n",
    "          (row['mfi'] < 57 and row['rsi'] > 80)):\n",
    "        if position > 0:\n",
    "            balance += position * row['Close']\n",
    "            trade_journal = trade_journal.append({\"Date\": row.name, \"Action\": \"Sell\", \"Price\": row[\"Close\"], \"Shares\": position, \"Balance\": balance}, ignore_index=True)\n",
    "            position = 0"
   ]
  },
  {
   "cell_type": "code",
   "execution_count": 7,
   "id": "8c705e87-5978-4096-8bc7-24c8f247ef44",
   "metadata": {},
   "outputs": [],
   "source": [
    "# Separate dataframes for buy and sell operations\n",
    "buy_df = trade_journal[trade_journal[\"Action\"] == \"Buy\"].copy()\n",
    "sell_df = trade_journal[trade_journal[\"Action\"] == \"Sell\"].copy()\n"
   ]
  },
  {
   "cell_type": "code",
   "execution_count": 8,
   "id": "ea56c132-a2a0-43d9-b75c-9dab09b106c7",
   "metadata": {},
   "outputs": [],
   "source": [
    "# Ensure that the number of 'Buy' transactions is equal to the number of 'Sell' transactions\n",
    "# A single 'Buy' without a corresponding 'Sell' is not counted as a complete trade\n",
    "if len(buy_df) != len(sell_df):\n",
    "    if len(buy_df) > len(sell_df):\n",
    "        buy_df = buy_df.iloc[:-1, :]  # Remove the last 'Buy' operation\n",
    "    else:\n",
    "        sell_df = sell_df.iloc[:-1, :]  # Remove the last 'Sell' operation"
   ]
  },
  {
   "cell_type": "code",
   "execution_count": 9,
   "id": "a987dfe2-0b87-4739-8d82-5fe31b9d1797",
   "metadata": {},
   "outputs": [],
   "source": [
    "# Compute the number of completed trades\n",
    "num_of_trades = len(buy_df)"
   ]
  },
  {
   "cell_type": "code",
   "execution_count": 10,
   "id": "3b07d061-4414-4840-8536-1880499b6cca",
   "metadata": {},
   "outputs": [],
   "source": [
    "# Reset indices of buy_df and sell_df\n",
    "buy_df.reset_index(drop=True, inplace=True)\n",
    "sell_df.reset_index(drop=True, inplace=True)"
   ]
  },
  {
   "cell_type": "code",
   "execution_count": 11,
   "id": "96c5a55d-fafb-463c-8ae4-4415e5e87bf6",
   "metadata": {},
   "outputs": [],
   "source": [
    "# Compute Win/Loss ratio\n",
    "sell_df[\"Win\"] = sell_df[\"Price\"] > buy_df[\"Price\"]\n",
    "win_loss_ratio = sell_df[\"Win\"].sum() / num_of_trades"
   ]
  },
  {
   "cell_type": "code",
   "execution_count": 12,
   "id": "10b04e26-e771-4b8a-8046-ef76d567650b",
   "metadata": {},
   "outputs": [],
   "source": [
    "# Compute ROI\n",
    "sell_df[\"ROI\"] = (sell_df[\"Price\"] - buy_df[\"Price\"]) / buy_df[\"Price\"]\n",
    "average_roi = sell_df[\"ROI\"].mean()"
   ]
  },
  {
   "cell_type": "code",
   "execution_count": 13,
   "id": "8484f34c-6650-476f-9d79-3ab135ec702f",
   "metadata": {},
   "outputs": [],
   "source": [
    "# Aggregate the results\n",
    "result = {\"Ticker\": tickerSymbol,\n",
    "          \"Average ROI\": average_roi * 100}\n",
    "\n",
    "final_df = pd.DataFrame(result, index=[0])"
   ]
  },
  {
   "cell_type": "code",
   "execution_count": 14,
   "id": "64926c8b-5c8f-40ac-b682-c364b208bd44",
   "metadata": {},
   "outputs": [],
   "source": [
    "# Compute the win ratio and the total profit\n",
    "win_ratio = sell_df[\"Win\"].sum() / num_of_trades\n",
    "total_profit = balance - starting_balance"
   ]
  },
  {
   "cell_type": "code",
   "execution_count": 15,
   "id": "b66cb994-5baa-48fb-a66c-4297fa1f7417",
   "metadata": {},
   "outputs": [],
   "source": [
    "# Compute profit percentage\n",
    "profit_percentage = (total_profit / starting_balance) * 100\n"
   ]
  },
  {
   "cell_type": "code",
   "execution_count": 16,
   "id": "fa9bb6ea-03ee-4616-87b7-9188423a9eff",
   "metadata": {},
   "outputs": [
    {
     "name": "stdout",
     "output_type": "stream",
     "text": [
      "  Ticker  Average ROI\n",
      "0   NFLX     3.952659\n",
      "Trade Journal:\n",
      "                        Date Action       Price Shares       Balance\n",
      "0  2023-03-17 14:40:00-04:00    Buy  300.700012     66  30153.799194\n",
      "1  2023-03-30 09:30:00-04:00   Sell  339.779999     66  52579.279114\n",
      "2  2023-04-05 09:45:00-04:00    Buy  341.287811     58  32784.586060\n",
      "3  2023-04-11 09:30:00-04:00   Sell  346.213196     58  52864.951416\n",
      "4  2023-04-11 15:40:00-04:00    Buy  338.380005     59  32900.531128\n",
      "5  2023-04-24 09:35:00-04:00   Sell  331.779999     59  52475.551056\n",
      "6  2023-04-25 09:45:00-04:00    Buy  324.744995     61  32666.106354\n",
      "7  2023-05-08 09:45:00-04:00   Sell  327.024994     61  52614.630981\n",
      "8  2023-05-09 14:25:00-04:00    Buy  332.154999     60  32685.331055\n",
      "9  2023-05-18 09:30:00-04:00   Sell  352.670013     60  53845.531860\n",
      "10 2023-05-19 09:35:00-04:00    Buy  365.779999     54  34093.411926\n",
      "11 2023-05-26 12:00:00-04:00   Sell  372.500000     54  54208.411926\n",
      "12 2023-06-02 09:55:00-04:00    Buy  397.829987     50  34316.912598\n",
      "13 2023-06-07 09:30:00-04:00   Sell  417.459991     50  55189.912170\n",
      "14 2023-06-08 09:30:00-04:00    Buy  397.364990     50  35321.662659\n",
      "15 2023-06-09 09:30:00-04:00   Sell  419.149994     50  56279.162354\n",
      "Final Balance: $56279.16\n",
      "Profit: $6279.16\n",
      "Number of Trades: 8\n",
      "Win Rate Percentage: 87.50%\n",
      "Profit Percentage:  12.558324707031248 %\n"
     ]
    }
   ],
   "source": [
    "# Metrics\n",
    "print(final_df)\n",
    "print(f\"Trade Journal:\\n{trade_journal}\")\n",
    "print(f\"Final Balance: ${balance:.2f}\")\n",
    "print(f\"Profit: ${total_profit:.2f}\")\n",
    "print(f\"Number of Trades: {num_of_trades}\")\n",
    "print(f\"Win Rate Percentage: {win_ratio * 100:.2f}%\")\n",
    "print(\"Profit Percentage: \", profit_percentage, \"%\")\n"
   ]
  },
  {
   "cell_type": "code",
   "execution_count": 17,
   "id": "2922f4a1-41bd-478f-93a4-e95545423170",
   "metadata": {},
   "outputs": [
    {
     "name": "stdout",
     "output_type": "stream",
     "text": [
      "Looks like we're crushin' it..$$$\n"
     ]
    }
   ],
   "source": [
    "# Print statements based on profit percentage\n",
    "if trade_journal.iloc[-1]['Action'] == 'Buy':\n",
    "    print(\"Looks bad, but you still have a position open.\")\n",
    "elif profit_percentage > 2:\n",
    "    print(\"Looks like we're crushin' it..$$$\")\n",
    "elif 0 <= profit_percentage <= 1:\n",
    "    print(\"Could be better..\")\n",
    "else:\n",
    "    print(\"Ouch.. back to the drawing board for this one..\")"
   ]
  }
 ],
 "metadata": {
  "kernelspec": {
   "display_name": "Python 3 (ipykernel)",
   "language": "python",
   "name": "python3"
  },
  "language_info": {
   "codemirror_mode": {
    "name": "ipython",
    "version": 3
   },
   "file_extension": ".py",
   "mimetype": "text/x-python",
   "name": "python",
   "nbconvert_exporter": "python",
   "pygments_lexer": "ipython3",
   "version": "3.7.15"
  }
 },
 "nbformat": 4,
 "nbformat_minor": 5
}
